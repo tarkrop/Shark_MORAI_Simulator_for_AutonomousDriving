{
 "cells": [
  {
   "cell_type": "code",
   "execution_count": 20,
   "metadata": {},
   "outputs": [],
   "source": [
    "import pandas as pd\n",
    "import joblib\n",
    "\n",
    "from sklearn.ensemble import RandomForestClassifier\n",
    "from sklearn.model_selection import train_test_split\n",
    "from sklearn.metrics import accuracy_score"
   ]
  },
  {
   "cell_type": "code",
   "execution_count": 21,
   "metadata": {},
   "outputs": [
    {
     "name": "stdout",
     "output_type": "stream",
     "text": [
      "                   x             y  target\n",
      "0      966796.630739  1.935687e+06       1\n",
      "1      966802.373853  1.935695e+06       0\n",
      "2      966796.630739  1.935687e+06       1\n",
      "3      966802.373853  1.935695e+06       0\n",
      "4      966796.630739  1.935687e+06       1\n",
      "...              ...           ...     ...\n",
      "30299  966951.664671  1.935581e+06       1\n",
      "30300  966958.385339  1.935576e+06       0\n",
      "30301  966951.651858  1.935581e+06       1\n",
      "30302  966958.378081  1.935576e+06       0\n",
      "30303  966951.638320  1.935581e+06       1\n",
      "\n",
      "[30304 rows x 3 columns]\n"
     ]
    }
   ],
   "source": [
    "import pandas as pd\n",
    "\n",
    "file_path = '/home/hong/catkin_ws/src/morai_2/src/sensor/shark_dynamic_static_data.csv'\n",
    "\n",
    "# Use 'on_bad_lines' to skip or warn about bad lines\n",
    "data = pd.read_csv(file_path, on_bad_lines='skip')\n",
    "\n",
    "column_names = ['x', 'y', 'target']\n",
    "data.columns = column_names\n",
    "\n",
    "# Display the resulting dataframe\n",
    "data.dropna()\n",
    "print(data)\n"
   ]
  },
  {
   "cell_type": "code",
   "execution_count": 22,
   "metadata": {},
   "outputs": [],
   "source": [
    "X = data.drop('target', axis=1)  # 특성\n",
    "y = data['target'] \n",
    "\n",
    "X_train, X_test, y_train, y_test = train_test_split(X, y, test_size=0.2, random_state=42)"
   ]
  },
  {
   "cell_type": "code",
   "execution_count": 23,
   "metadata": {},
   "outputs": [],
   "source": [
    "import numpy as np\n",
    "\n",
    "# X_train과 y_train에서 NaN 값을 포함하는 행을 제거합니다.\n",
    "mask = ~np.isnan(X_train).any(axis=1)  # NaN이 없는 행만 선택하는 마스크 생성\n",
    "X_train_cleaned = X_train[mask]        # NaN이 없는 행만 선택\n",
    "y_train_cleaned = y_train[mask]\n",
    "\n",
    "# 동일한 방법으로 테스트 데이터셋에서도 NaN이 포함된 행을 제거할 수 있습니다.\n",
    "mask_test = ~np.isnan(X_test).any(axis=1)\n",
    "X_test_cleaned = X_test[mask_test]\n",
    "y_test_cleaned = y_test[mask_test]\n",
    "\n",
    "# 이제 X_train_cleaned와 y_train_cleaned를 사용하여 모델을 학습할 수 있습니다.\n",
    "clf = RandomForestClassifier(n_estimators=100, random_state=42)\n",
    "clf.fit(X_train_cleaned, y_train_cleaned)\n",
    "\n",
    "# 테스트 데이터에 대한 예측\n",
    "y_pred = clf.predict(X_test_cleaned)\n"
   ]
  },
  {
   "cell_type": "code",
   "execution_count": 24,
   "metadata": {},
   "outputs": [
    {
     "name": "stdout",
     "output_type": "stream",
     "text": [
      "Accuracy: 0.9953803003\n"
     ]
    }
   ],
   "source": [
    "accuracy = accuracy_score(y_test, y_pred)\n",
    "print(f\"Accuracy: {accuracy:.10f}\")"
   ]
  },
  {
   "cell_type": "code",
   "execution_count": 25,
   "metadata": {},
   "outputs": [
    {
     "data": {
      "text/plain": [
       "['random_forest_model_intensity.pkl']"
      ]
     },
     "execution_count": 25,
     "metadata": {},
     "output_type": "execute_result"
    }
   ],
   "source": [
    "model_filename = 'random_forest_model_intensity.pkl'\n",
    "joblib.dump(clf, model_filename)"
   ]
  },
  {
   "cell_type": "code",
   "execution_count": null,
   "metadata": {},
   "outputs": [],
   "source": []
  }
 ],
 "metadata": {
  "kernelspec": {
   "display_name": "Python 3",
   "language": "python",
   "name": "python3"
  },
  "language_info": {
   "codemirror_mode": {
    "name": "ipython",
    "version": 3
   },
   "file_extension": ".py",
   "mimetype": "text/x-python",
   "name": "python",
   "nbconvert_exporter": "python",
   "pygments_lexer": "ipython3",
   "version": "3.8.10"
  }
 },
 "nbformat": 4,
 "nbformat_minor": 2
}
